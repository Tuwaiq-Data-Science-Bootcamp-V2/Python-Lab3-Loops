{
 "cells": [
  {
   "cell_type": "markdown",
   "id": "fd7b73d1",
   "metadata": {},
   "source": [
    "## Day4-Lab1-Loop\n",
    "\n",
    "### 1) Using range(), make a range from 45 to 210, using a for loop iterate over the sequence and print the elements. Skip the number 100 and break the loop at 205.\n",
    "\n",
    "### 2) Using a while loop and input, do the following:\n",
    "- Ask the the user : \"what is the product of 7 * 24 ?\"\n",
    "- check if the answer is right then exit the loop and print \"You answered this Question correctly\".\n",
    "- if the answer is wrong, then print \"Your Answer is wrong try again..\" and show the user the question again."
   ]
  },
  {
   "cell_type": "code",
   "execution_count": null,
   "id": "81576461",
   "metadata": {},
   "outputs": [],
   "source": [
    "# Solution for Question 1\n",
    "\n",
    "for value in range(45,210): # Range from 45 to 210\n",
    "    if value == 100: # To skip value if it is 100 \n",
    "        continue\n",
    "    if value == 205: # To break the loop when reach 205\n",
    "        break\n",
    "    print(value) # If the two condition above didn't match then print the value"
   ]
  },
  {
   "cell_type": "code",
   "execution_count": null,
   "id": "c91dcd2c",
   "metadata": {},
   "outputs": [],
   "source": [
    "# Solution for Question 2\n",
    "\n",
    "correct_answer = 168\n",
    "user_answer = int(input(\"what is the product of 7 * 24 ? \"))\n",
    "\n",
    "while correct_answer != user_answer:\n",
    "    print(\"Your Answer is wrong try again..\")\n",
    "    user_answer = int(input(\"what is the product of 7 * 24 ? \"))\n",
    "\n",
    "print(\"You answered this Question correctly\")\n"
   ]
  },
  {
   "cell_type": "markdown",
   "id": "5887393a",
   "metadata": {},
   "source": [
    "## Day4-Lab2-Functions\n",
    "\n",
    "### Create a function that takes one parameter of type int, then it prints out the result formatted like the following pattern (if we give it 5 for example):\n",
    "5 4 3 2 1   \n",
    "4 3 2 1   \n",
    "3 2 1   \n",
    "2 1   \n",
    "1   "
   ]
  },
  {
   "cell_type": "code",
   "execution_count": null,
   "id": "44c6b152",
   "metadata": {},
   "outputs": [],
   "source": [
    "# Using neasted for loop to solve this task\n",
    "def formatted_numbers(number:int):   \n",
    "    for i in range(number+1, 1, -1):\n",
    "        for j in range(1, i):\n",
    "            print(j, end=\" \")\n",
    "        print()\n",
    "\n",
    "# While loop to check the user input value\n",
    "rows_count = int(input(\"Enter a valid integer: \"))\n",
    "while rows_count <=0 : \n",
    "    print(\"ERROR: Invalid number...please make sure to enter correct integer number\")\n",
    "    rows_count = int(input(\"Enter a valid integer: \"))\n",
    "\n",
    "# Calling the format function to form the pyramid\n",
    "formatted_numbers(rows_count)"
   ]
  }
 ],
 "metadata": {
  "kernelspec": {
   "display_name": "Python 3",
   "language": "python",
   "name": "python3"
  },
  "language_info": {
   "codemirror_mode": {
    "name": "ipython",
    "version": 3
   },
   "file_extension": ".py",
   "mimetype": "text/x-python",
   "name": "python",
   "nbconvert_exporter": "python",
   "pygments_lexer": "ipython3",
   "version": "3.7.7 (tags/v3.7.7:d7c567b08f, Mar 10 2020, 10:41:24) [MSC v.1900 64 bit (AMD64)]"
  },
  "vscode": {
   "interpreter": {
    "hash": "4c64d8a5c67c78d72f09c9eccd39506a60a2409b77b76c81040aeb67b34456e2"
   }
  }
 },
 "nbformat": 4,
 "nbformat_minor": 5
}
